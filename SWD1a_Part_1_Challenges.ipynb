{
  "nbformat": 4,
  "nbformat_minor": 0,
  "metadata": {
    "colab": {
      "provenance": [],
      "include_colab_link": true
    },
    "kernelspec": {
      "name": "python3",
      "display_name": "Python 3"
    },
    "language_info": {
      "name": "python"
    }
  },
  "cells": [
    {
      "cell_type": "markdown",
      "metadata": {
        "id": "view-in-github",
        "colab_type": "text"
      },
      "source": [
        "<a href=\"https://colab.research.google.com/github/eoinleen/Python-training/blob/main/SWD1a_Part_1_Challenges.ipynb\" target=\"_parent\"><img src=\"https://colab.research.google.com/assets/colab-badge.svg\" alt=\"Open In Colab\"/></a>"
      ]
    },
    {
      "cell_type": "markdown",
      "source": [
        "# Part 1 Challenge Tasks 🛫\n",
        "\n",
        "Here are a few tasks to help you consolidate your\n",
        " learning so far.\n",
        "* Work through the tasks with a partner\n",
        "  * Person 1 should code and screenshare\n",
        "  * Person 2 should offer direction / ask questions\n",
        "  * You can rotate roles between tasks\n",
        "* If you don't manage to complete all the tasks today, try to do them before the session next week\n",
        "* Solutions will be shared by the end of the week\n",
        "\n",
        "**NB:** The goal of the tasks is to practice the techniques we've learned so far - not to produce quality code!"
      ],
      "metadata": {
        "id": "DJtdw0lzFM89"
      }
    },
    {
      "cell_type": "markdown",
      "source": [
        "## Task 1: Open a single csv file and use built-in functions to explore the dimensions of the data\n",
        "\n",
        "**Tips:**\n",
        "* You can use the built-in csv module to open a csv file\n",
        "  * Refer to the code snippet and resource links below to help you\n",
        "  * You'll need to have uploaded the inflammation data first!\n",
        "* *Which of the built-in functions we've used today might be helpful for examining this data?*"
      ],
      "metadata": {
        "id": "7NULfSzHhUmk"
      }
    },
    {
      "cell_type": "code",
      "execution_count": null,
      "metadata": {
        "id": "dqCh9mk9TSYQ"
      },
      "outputs": [],
      "source": [
        "# https://www.geeksforgeeks.org/read-a-csv-into-list-of-lists-in-python/\n",
        "# https://docs.python.org/3/library/csv.html\n",
        "import csv\n",
        "file = open('inflammation_data/inflammation-01.csv')\n",
        "data = list(csv.reader(file, delimiter=\",\"))\n",
        "file.close()"
      ]
    },
    {
      "cell_type": "code",
      "source": [
        "# Your solution here...\n",
        "data[0][0:10]"
      ],
      "metadata": {
        "id": "Kqh-2vp1J0vF",
        "colab": {
          "base_uri": "https://localhost:8080/"
        },
        "outputId": "fe3de3d3-3a92-4713-9301-3c9dd566fa5a"
      },
      "execution_count": null,
      "outputs": [
        {
          "output_type": "execute_result",
          "data": {
            "text/plain": [
              "['0', '0', '1', '3', '1', '2', '4', '7', '8', '3']"
            ]
          },
          "metadata": {},
          "execution_count": 5
        }
      ]
    },
    {
      "cell_type": "markdown",
      "source": [
        "## Task 2: Using a for loop, create a nested list containing all of the inflammation data\n",
        "\n",
        "**Tips:**\n",
        "- Use pseudocode comments to plan out the logic first\n",
        "- Remember what we learned earlier about [string concatenation!](https://www.w3schools.com/python/gloss_python_string_concatenation.asp)\n",
        "- [`zfill()`](https://docs.python.org/3/library/stdtypes.html#str.zfill) is a useful string method which adds leading zeros to a string, up to a specified length.\n",
        "  - For example, if `my_str = \"1\"`, calling `my_str.zfill()` will return `\"01\"`\n",
        "  - Refer to this [w3schools resource](https://docs.python.org/3/library/stdtypes.html#str.zfill) for more help with `zfill()`"
      ],
      "metadata": {
        "id": "tOU_KaMkFRgx"
      }
    },
    {
      "cell_type": "code",
      "source": [
        "# Create an empty list to hold all the file data\n",
        "all_data = []\n",
        "# Loop through all 12 inflammation CSV files\n",
        "for i in range(1,13):\n",
        "  #file = open('inflammation_data/inflammation-' + str(i) + '.csv')\n",
        "  print('inflammation_data/inflammation-' + str(i) + '.csv')\n",
        "  #data = list(csv.reader(file, delimiter=\",\"))\n",
        "  #file.close()\n",
        "  #all_data.append(data)\n",
        "\n",
        "# For each file, read the data into a list\n",
        "# Append the new list to all_data"
      ],
      "metadata": {
        "id": "rQF-wYbBFZcb",
        "colab": {
          "base_uri": "https://localhost:8080/"
        },
        "outputId": "15750c6a-4adb-4ee1-9ad8-c56fe284ae6c"
      },
      "execution_count": null,
      "outputs": [
        {
          "output_type": "stream",
          "name": "stdout",
          "text": [
            "inflammation_data/inflammation-1.csv\n",
            "inflammation_data/inflammation-2.csv\n",
            "inflammation_data/inflammation-3.csv\n",
            "inflammation_data/inflammation-4.csv\n",
            "inflammation_data/inflammation-5.csv\n",
            "inflammation_data/inflammation-6.csv\n",
            "inflammation_data/inflammation-7.csv\n",
            "inflammation_data/inflammation-8.csv\n",
            "inflammation_data/inflammation-9.csv\n",
            "inflammation_data/inflammation-10.csv\n",
            "inflammation_data/inflammation-11.csv\n",
            "inflammation_data/inflammation-12.csv\n"
          ]
        }
      ]
    },
    {
      "cell_type": "markdown",
      "source": [
        "## Task 3: For each CSV file, output the first 5 values of the first row\n",
        "\n",
        "**Tips:**\n",
        "- *Can you remember which built-in python function allows us to output something to the screen?*"
      ],
      "metadata": {
        "id": "I6zl3QiolU8m"
      }
    },
    {
      "cell_type": "code",
      "source": [
        "# Your solution here..."
      ],
      "metadata": {
        "id": "RMOpWE65lk4Y"
      },
      "execution_count": null,
      "outputs": []
    },
    {
      "cell_type": "markdown",
      "source": [
        "## Task 4: For each CSV file, output the mean average of the values in the first row\n",
        "\n",
        "**Tip:**\n",
        "* Strings need converting to numerical type data before we can perform mathematical operations on them! (clue: [`float()`](https://www.w3schools.com/python/ref_func_float.asp)\n",
        "* *Can you identify a built-in function that would return the sum of a list of values?*\n"
      ],
      "metadata": {
        "id": "Xbzgby8OHByW"
      }
    },
    {
      "cell_type": "code",
      "source": [
        "# Your solution here..."
      ],
      "metadata": {
        "id": "Q7sO3mHSlETM"
      },
      "execution_count": null,
      "outputs": []
    },
    {
      "cell_type": "markdown",
      "source": [
        "*Did you manage to complete all the tasks?*\n",
        "\n",
        "If so, you're ready to learn how to handle this data better! 😉"
      ],
      "metadata": {
        "id": "bfgh5a4dmREy"
      }
    }
  ]
}