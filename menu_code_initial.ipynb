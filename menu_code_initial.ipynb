{
  "nbformat": 4,
  "nbformat_minor": 0,
  "metadata": {
    "colab": {
      "provenance": [],
      "mount_file_id": "1YYBNxH92477bWWKvzMbdrDnLZYb4Ah7w",
      "authorship_tag": "ABX9TyPcGSj22zi9utVqtAoNXhYy",
      "include_colab_link": true
    },
    "kernelspec": {
      "name": "python3",
      "display_name": "Python 3"
    },
    "language_info": {
      "name": "python"
    }
  },
  "cells": [
    {
      "cell_type": "markdown",
      "metadata": {
        "id": "view-in-github",
        "colab_type": "text"
      },
      "source": [
        "<a href=\"https://colab.research.google.com/github/eoinleen/Python-training/blob/main/menu_code_initial.ipynb\" target=\"_parent\"><img src=\"https://colab.research.google.com/assets/colab-badge.svg\" alt=\"Open In Colab\"/></a>"
      ]
    },
    {
      "cell_type": "code",
      "execution_count": null,
      "metadata": {
        "id": "rCErakdIqMRe"
      },
      "outputs": [],
      "source": []
    },
    {
      "cell_type": "code",
      "source": [],
      "metadata": {
        "id": "XsV86WM6qmO-"
      },
      "execution_count": null,
      "outputs": []
    },
    {
      "cell_type": "markdown",
      "source": [
        "OK so this was the first task of the python corse on 3/12/24\n",
        "It was to build a menu by putting together strings and varibles.\n",
        "This was my first attempt.\n",
        "\n",
        "A second better attempt was made using lists.\n",
        "\n",
        "Notes on the day:\n",
        "self-service-machine-demo. We want to define a menu with code\n",
        "remember float are point numbers. ints are whole numbers.\n",
        "strings are lists of names. Adding them is \"concatonaton\"\n",
        "Built in functions in python can be used to do a variety of things. The function string will turn a float or int to a string str(int)"
      ],
      "metadata": {
        "id": "fmQwFUEkqVad"
      }
    },
    {
      "cell_type": "code",
      "source": [
        "burger = 4.99\n",
        "hot_sauce = 1.99\n",
        "kebab = 2.99\n",
        "assorted_parts = 12.43\n",
        "rabbit = 14.40\n",
        "\n",
        "dish1_name = \"burger\"\n",
        "dish2_name = \"hot_sauce\"\n",
        "dish3_name = \"kebab\"\n",
        "dish4_name = \"assorted_parts\"\n",
        "dish5_name = \"rabbit\"\n",
        "\n",
        "#dish1_name + dish2_name\n",
        "#burger + hot_sauce\n",
        "print(\"Menu\")\n",
        "print(\"----------\")\n",
        "print(dish1_name + \" £\" + str(burger))\n",
        "print(dish2_name + \" £\" + str(hot_sauce))\n",
        "print(dish3_name + \" £\" + str(kebab))\n",
        "print(dish4_name + \" £\" + str(assorted_parts))\n",
        "print(dish5_name + \" £\" + str(rabbit))"
      ],
      "metadata": {
        "colab": {
          "base_uri": "https://localhost:8080/"
        },
        "id": "goRAp1kXquRT",
        "outputId": "4290b525-8ab7-40f0-f4ba-74d8b5b1dd0e"
      },
      "execution_count": 1,
      "outputs": [
        {
          "output_type": "stream",
          "name": "stdout",
          "text": [
            "Menu\n",
            "----------\n",
            "burger £4.99\n",
            "hot_sauce £1.99\n",
            "kebab £2.99\n",
            "assorted_parts £12.43\n",
            "rabbit £14.4\n"
          ]
        }
      ]
    }
  ]
}