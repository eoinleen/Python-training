{
  "nbformat": 4,
  "nbformat_minor": 0,
  "metadata": {
    "colab": {
      "provenance": [],
      "authorship_tag": "ABX9TyMDXzmrP3wwBYqM9/Ra0Z61",
      "include_colab_link": true
    },
    "kernelspec": {
      "name": "python3",
      "display_name": "Python 3"
    },
    "language_info": {
      "name": "python"
    }
  },
  "cells": [
    {
      "cell_type": "markdown",
      "metadata": {
        "id": "view-in-github",
        "colab_type": "text"
      },
      "source": [
        "<a href=\"https://colab.research.google.com/github/eoinleen/Python-training/blob/main/menu_list_numpy.ipynb\" target=\"_parent\"><img src=\"https://colab.research.google.com/assets/colab-badge.svg\" alt=\"Open In Colab\"/></a>"
      ]
    },
    {
      "cell_type": "markdown",
      "source": [
        "3/12/24 python training\n",
        "OK I was begining to struggle at this point. We were begning to explore numpy\n",
        "* numpy is a powerful libary for numercal computing in python\n",
        "* it is imported as below and always abvriated as np\n",
        "* the script below first executes the importation of numpy in a code box. Oce ths is done we explore some very basic functions using a list of prices."
      ],
      "metadata": {
        "id": "lXZtvu-H5TUM"
      }
    },
    {
      "cell_type": "code",
      "source": [
        "import numpy as np"
      ],
      "metadata": {
        "id": "hdKVpPq76Rla"
      },
      "execution_count": 10,
      "outputs": []
    },
    {
      "cell_type": "code",
      "source": [
        "dish_names = [\"burger\", \"hot_sauce\", \"kebab\",\"assorted_parts\", \"rabbit\"]\n",
        "dish_prices = [4.99, 1.99, 2.99, 12.43, 14.43]\n",
        "\n",
        "print(np.max(dish_prices))\n",
        "print(np.min(dish_prices))\n",
        "print(np.mean(dish_prices))\n",
        "print(np.std(dish_prices))\n",
        "print(np.sum(dish_prices))\n",
        "print(np.product(dish_prices))\n"
      ],
      "metadata": {
        "colab": {
          "base_uri": "https://localhost:8080/"
        },
        "id": "z8fOb3Jm6WD6",
        "outputId": "c39a0c46-bc02-4f55-8a6b-d8d8b12cda77"
      },
      "execution_count": 6,
      "outputs": [
        {
          "output_type": "stream",
          "name": "stdout",
          "text": [
            "14.43\n",
            "1.99\n",
            "7.366\n",
            "5.084099133573224\n",
            "36.83\n",
            "5325.523066535101\n"
          ]
        }
      ]
    },
    {
      "cell_type": "markdown",
      "source": [
        "* I'm trying to figure out how to append a list using numpy"
      ],
      "metadata": {
        "id": "2Jfi--aC-YhD"
      }
    },
    {
      "cell_type": "code",
      "source": [
        "dish_names1 = np.append(dish_names, [\"chicken_nuggets\", \"breast_of_chicken\"])\n",
        "dish_prices1 = np.append(dish_prices, [9.12, 12.91])\n",
        "\n",
        "for i in range(len(dish_names1)):\n",
        "  print(dish_names1 [i] + \" £\" + str(dish_prices1 [i]))"
      ],
      "metadata": {
        "colab": {
          "base_uri": "https://localhost:8080/"
        },
        "id": "P4iANQFR-fVY",
        "outputId": "22124a58-7cb1-4858-a09c-4d302f048572"
      },
      "execution_count": 24,
      "outputs": [
        {
          "output_type": "stream",
          "name": "stdout",
          "text": [
            "burger £4.99\n",
            "hot_sauce £1.99\n",
            "kebab £2.99\n",
            "assorted_parts £12.43\n",
            "rabbit £14.43\n",
            "chicken_nuggets £9.12\n",
            "breast_of_chicken £12.91\n"
          ]
        }
      ]
    }
  ]
}