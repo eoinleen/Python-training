{
  "nbformat": 4,
  "nbformat_minor": 0,
  "metadata": {
    "colab": {
      "provenance": [],
      "mount_file_id": "1Br5bWakpv-dNPdlmlgGsiWzqWYxK8fK4",
      "authorship_tag": "ABX9TyMFOJiqreb0fuSdYKO63CwT",
      "include_colab_link": true
    },
    "kernelspec": {
      "name": "python3",
      "display_name": "Python 3"
    },
    "language_info": {
      "name": "python"
    }
  },
  "cells": [
    {
      "cell_type": "markdown",
      "metadata": {
        "id": "view-in-github",
        "colab_type": "text"
      },
      "source": [
        "<a href=\"https://colab.research.google.com/github/eoinleen/Python-training/blob/main/lists-loops-menu-creation.ipynb\" target=\"_parent\"><img src=\"https://colab.research.google.com/assets/colab-badge.svg\" alt=\"Open In Colab\"/></a>"
      ]
    },
    {
      "cell_type": "markdown",
      "source": [
        "Making a menu - this time using the list and loop functions\n",
        "Notes made at the time 3/12/24 python course\n",
        "Lists are for storing multiple items together in a list\n",
        "* List-output order 0 -> end \"dish_names[0]\" out out will be burger fron the lsit below\n",
        "* Concatonating varibles and strngs as text requires the varible to be coverted to a string str(varible) command does this.\n",
        "* list-sliceing: \"dish_names[0:4]\"  -> ['burger', 'hot_sauce', 'kebab', 'assorted_parts']\n",
        "* \"len(dish_names)\" spits out the length of the list\n",
        "*  Add and remove items from lists \"dish_names.append(\"chicken_nuggets\")\"\n",
        "* dot synthatx above calls the function on the object\n",
        "* dish_names.remove(\"hot_sauce\") or via position #dish_names.pop(2)\n",
        "* A list within a list is a nested list\n",
        "* An alternative way to do this is with the zip command. This links two lists together matching the order of the lists\n",
        "* Loops - movinhg on again\n",
        "* for-loops (Know the N number and want to cycle throgh N)\n",
        "* while - loops varible optimisation - ends on condition of optimisation met or failed\n",
        "* In the loop below the menu length is defined by the len(list) command determining the length of the list. This value is then called i and i number of strings and varibles are printed.\n",
        "* the spaces have to be explicitly put in \" \"\n"
      ],
      "metadata": {
        "id": "f9Xn8_etwxXh"
      }
    },
    {
      "cell_type": "code",
      "source": [
        "dish_names = [\"burger\", \"hot_sauce\", \"kebab\",\"assorted_parts\", \"rabbit\"]\n",
        "dish_prices = [4.99, 1.99, 2.99, 12.43, 14.43]\n",
        "\n",
        "#for i in range(len(dish_names, dish_prices):\n",
        "#  print(dish_names [i] + \" £\" + dish_prices [i])\n",
        "\n",
        "print(\"Menu\")\n",
        "print(\"-----------\")\n",
        "for i in range(len(dish_names)):\n",
        "  print(dish_names [i] + \" £\" + str(dish_prices [i]))\n"
      ],
      "metadata": {
        "colab": {
          "base_uri": "https://localhost:8080/"
        },
        "id": "XnTG0kZixQn8",
        "outputId": "5fa49359-9f9f-437e-b51d-e6b5b2500873"
      },
      "execution_count": 3,
      "outputs": [
        {
          "output_type": "stream",
          "name": "stdout",
          "text": [
            "Menu\n",
            "-----------\n",
            "burger £4.99\n",
            "hot_sauce £1.99\n",
            "kebab £2.99\n",
            "assorted_parts £12.43\n",
            "rabbit £14.43\n"
          ]
        }
      ]
    }
  ]
}